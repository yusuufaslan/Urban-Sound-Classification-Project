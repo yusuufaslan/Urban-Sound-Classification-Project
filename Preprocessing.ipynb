{
  "nbformat": 4,
  "nbformat_minor": 0,
  "metadata": {
    "colab": {
      "provenance": [],
      "collapsed_sections": []
    },
    "kernelspec": {
      "name": "python3",
      "display_name": "Python 3"
    },
    "language_info": {
      "name": "python"
    },
    "accelerator": "GPU"
  },
  "cells": [
    {
      "cell_type": "markdown",
      "source": [
        "# **Preprocessing Steps**"
      ],
      "metadata": {
        "id": "1ziv0NdJyOmd"
      }
    },
    {
      "cell_type": "markdown",
      "source": [
        "**Drive Connection**"
      ],
      "metadata": {
        "id": "P9aPBxrTuINa"
      }
    },
    {
      "cell_type": "code",
      "execution_count": 1,
      "metadata": {
        "colab": {
          "base_uri": "https://localhost:8080/"
        },
        "id": "D9ULpYEDUj7s",
        "outputId": "a9701ff4-d629-447c-978d-e2689543f3f9"
      },
      "outputs": [
        {
          "output_type": "stream",
          "name": "stdout",
          "text": [
            "Mounted at /content/drive/\n"
          ]
        }
      ],
      "source": [
        "# mount Google Drive\n",
        "from google.colab import drive\n",
        "drive.mount('/content/drive/')"
      ]
    },
    {
      "cell_type": "code",
      "source": [
        "# to show current working directory\n",
        "!pwd \n",
        "!ls\n",
        "%cd drive/MyDrive/Google_colab\n",
        "!ls"
      ],
      "metadata": {
        "colab": {
          "base_uri": "https://localhost:8080/"
        },
        "id": "m10OAz4WuQqd",
        "outputId": "1538c3c4-b02f-4ce2-be58-3e057cbe0636"
      },
      "execution_count": 2,
      "outputs": [
        {
          "output_type": "stream",
          "name": "stdout",
          "text": [
            "/content\n",
            "drive  sample_data\n",
            "/content/drive/MyDrive/Google_colab\n",
            "Colab_notebooks  Preprocessing.ipynb\n"
          ]
        }
      ]
    },
    {
      "cell_type": "markdown",
      "source": [
        "**Importing Required Libraries**"
      ],
      "metadata": {
        "id": "9LFmEqy2yW_0"
      }
    },
    {
      "cell_type": "code",
      "source": [
        "import cv2\n",
        "import os\n",
        "import numpy as np\n",
        "import pandas as pd\n",
        "import matplotlib.pyplot as plt\n",
        "%matplotlib inline\n",
        "import tensorflow as tf"
      ],
      "metadata": {
        "id": "KKPCtOZ5vWoE"
      },
      "execution_count": 18,
      "outputs": []
    },
    {
      "cell_type": "markdown",
      "source": [
        "**Path of Spectrograms**"
      ],
      "metadata": {
        "id": "hANPds3SyfFB"
      }
    },
    {
      "cell_type": "code",
      "source": [
        "path = '/content/drive/MyDrive/Google_colab/Colab_notebooks'"
      ],
      "metadata": {
        "id": "hULgFE2PvZH0"
      },
      "execution_count": 19,
      "outputs": []
    },
    {
      "cell_type": "markdown",
      "source": [
        "**GrayScale - Resize - Normalization**"
      ],
      "metadata": {
        "id": "piIgQkfQyneQ"
      }
    },
    {
      "cell_type": "code",
      "source": [
        "%%time\n",
        "\n",
        "X_data = []\n",
        "y_data = []\n",
        "\n",
        "for subdir, dirs, files in os.walk(path):\n",
        "    for file in files:\n",
        "        pic = cv2.imread(os.path.join(subdir, file))\n",
        "        pic = cv2.cvtColor(pic, cv2.COLOR_BGR2GRAY)\n",
        "        pic = cv2.resize(pic, (32, 32))\n",
        "        \n",
        "        X_data.append(pic)\n",
        "        y_data.append(int(subdir[-1]))\n",
        "\n",
        "X = np.array(X_data) / 255\n",
        "y = np.array(y_data).reshape(-1, 1)\n",
        "\n",
        "print(X.shape)\n",
        "print(y.shape)"
      ],
      "metadata": {
        "colab": {
          "base_uri": "https://localhost:8080/"
        },
        "id": "Meu6sVo4ve_X",
        "outputId": "fc15fe9d-1041-4f49-a602-7af8f16920fc"
      },
      "execution_count": 20,
      "outputs": [
        {
          "output_type": "stream",
          "name": "stdout",
          "text": [
            "(8732, 32, 32)\n",
            "(8732, 1)\n",
            "CPU times: user 38.6 s, sys: 5.45 s, total: 44.1 s\n",
            "Wall time: 54.9 s\n"
          ]
        }
      ]
    },
    {
      "cell_type": "markdown",
      "source": [
        "**Example to Control**"
      ],
      "metadata": {
        "id": "pSNWYmtnzrgG"
      }
    },
    {
      "cell_type": "code",
      "source": [
        "print(X[0:2])\n",
        "print(y[0:2])"
      ],
      "metadata": {
        "colab": {
          "base_uri": "https://localhost:8080/"
        },
        "id": "4mrIq344wap2",
        "outputId": "aaa90b5d-23d6-4923-a376-318d8d8e5785"
      },
      "execution_count": 21,
      "outputs": [
        {
          "output_type": "stream",
          "name": "stdout",
          "text": [
            "[[[0.         0.         0.         ... 0.         0.         0.        ]\n",
            "  [0.         0.02745098 0.00784314 ... 0.07058824 0.06666667 0.07058824]\n",
            "  [0.         0.09803922 0.11764706 ... 0.13333333 0.0627451  0.14901961]\n",
            "  ...\n",
            "  [0.04705882 0.51764706 0.59215686 ... 0.62745098 0.5372549  0.5372549 ]\n",
            "  [0.09803922 0.74509804 0.6745098  ... 0.77647059 0.75686275 0.61176471]\n",
            "  [0.05098039 0.43137255 0.57647059 ... 0.74901961 0.66666667 0.65098039]]\n",
            "\n",
            " [[0.         0.         0.         ... 0.         0.         0.        ]\n",
            "  [0.02745098 0.01176471 0.02745098 ... 0.03137255 0.14901961 0.08627451]\n",
            "  [0.00392157 0.02352941 0.03529412 ... 0.09019608 0.15686275 0.1372549 ]\n",
            "  ...\n",
            "  [0.41176471 0.46666667 0.38823529 ... 0.43921569 0.52941176 0.34117647]\n",
            "  [0.60784314 0.74117647 0.68235294 ... 0.67058824 0.75686275 0.61568627]\n",
            "  [0.43921569 0.57647059 0.4627451  ... 0.72941176 0.47058824 0.56470588]]]\n",
            "[[0]\n",
            " [0]]\n"
          ]
        }
      ]
    },
    {
      "cell_type": "code",
      "source": [
        "plt.imshow(X[100],cmap=\"gray\")\n",
        "plt.show()\n",
        "\n",
        "print(X[100].shape)"
      ],
      "metadata": {
        "colab": {
          "base_uri": "https://localhost:8080/",
          "height": 284
        },
        "id": "X_0zLd0nw-Qg",
        "outputId": "955fb5ae-1a18-4977-a1ff-1e685c6a5fa3"
      },
      "execution_count": 22,
      "outputs": [
        {
          "output_type": "display_data",
          "data": {
            "text/plain": [
              "<Figure size 432x288 with 1 Axes>"
            ],
            "image/png": "[encoded data removed]"
          },
          "metadata": {
            "needs_background": "light"
          }
        },
        {
          "output_type": "stream",
          "name": "stdout",
          "text": [
            "(32, 32)\n"
          ]
        }
      ]
    },
    {
      "cell_type": "markdown",
      "source": [
        "**Train - Test and Validation Datasets**"
      ],
      "metadata": {
        "id": "fAQVZpRGy5gy"
      }
    },
    {
      "cell_type": "code",
      "source": [
        "from sklearn.model_selection import train_test_split\n",
        "\n",
        "X_train, X_temp, y_train, y_temp = train_test_split(X, y, test_size=0.30)\n",
        "X_val, X_test, y_val, y_test = train_test_split(X_temp, y_temp, test_size=0.50)\n",
        "\n",
        "print(f\"X_train: {len(X_train)}\")\n",
        "print(f\"y_train: {len(y_train)}\")\n",
        "\n",
        "print(f\"X_val: {len(X_val)}\")\n",
        "print(f\"y_val: {len(y_val)}\")\n",
        "\n",
        "print(f\"X_test: {len(X_test)}\")\n",
        "print(f\"y_test: {len(y_test)}\")\n"
      ],
      "metadata": {
        "colab": {
          "base_uri": "https://localhost:8080/"
        },
        "id": "R0D1I_fCxAlG",
        "outputId": "4660d907-d9b3-433f-92c2-7aa996ae91b2"
      },
      "execution_count": 23,
      "outputs": [
        {
          "output_type": "stream",
          "name": "stdout",
          "text": [
            "X_train: 6112\n",
            "y_train: 6112\n",
            "X_val: 1310\n",
            "y_val: 1310\n",
            "X_test: 1310\n",
            "y_test: 1310\n"
          ]
        }
      ]
    },
    {
      "cell_type": "markdown",
      "source": [
        "**Saving Train - Test and Validation Datasets**"
      ],
      "metadata": {
        "id": "FZZRGotwzCfB"
      }
    },
    {
      "cell_type": "code",
      "source": [
        "pathnew= '/content/drive/MyDrive/Google_colab'\n",
        "\n",
        "np.save(os.path.join(pathnew,'X_train'), X_train)\n",
        "np.save(os.path.join(pathnew,'y_train'), y_train)\n",
        "\n",
        "np.save(os.path.join(pathnew,'X_val'), X_val)\n",
        "np.save(os.path.join(pathnew,'y_val'), y_val)\n",
        "\n",
        "np.save(os.path.join(pathnew,'X_test'), X_test)\n",
        "np.save(os.path.join(pathnew,'y_test'), y_test)"
      ],
      "metadata": {
        "id": "UaCMTQ0Axjp8"
      },
      "execution_count": 24,
      "outputs": []
    }
  ]
}