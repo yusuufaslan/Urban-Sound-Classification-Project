{
  "nbformat": 4,
  "nbformat_minor": 0,
  "metadata": {
    "colab": {
      "provenance": []
    },
    "kernelspec": {
      "name": "python3",
      "display_name": "Python 3"
    },
    "language_info": {
      "name": "python"
    }
  },
  "cells": [
    {
      "cell_type": "markdown",
      "source": [
        "# **CNN Modelling**"
      ],
      "metadata": {
        "id": "5-J0YkVkbXsd"
      }
    },
    {
      "cell_type": "markdown",
      "source": [
        "**Drive Connection**"
      ],
      "metadata": {
        "id": "53RR6JXobcGZ"
      }
    },
    {
      "cell_type": "code",
      "execution_count": 1,
      "metadata": {
        "colab": {
          "base_uri": "https://localhost:8080/"
        },
        "id": "FRQ3NpPgUsT3",
        "outputId": "f7f5e62f-60f5-4938-ebbd-d1c9e51cae1e"
      },
      "outputs": [
        {
          "output_type": "stream",
          "name": "stdout",
          "text": [
            "Mounted at /content/drive/\n"
          ]
        }
      ],
      "source": [
        "# mount Google Drive\n",
        "from google.colab import drive\n",
        "drive.mount('/content/drive/')"
      ]
    },
    {
      "cell_type": "markdown",
      "source": [
        "**Importing Required Libraries**"
      ],
      "metadata": {
        "id": "Eb--jR8LbhR6"
      }
    },
    {
      "cell_type": "code",
      "source": [
        "# importing libraries \n",
        "import cv2\n",
        "import os\n",
        "import numpy as np\n",
        "import pandas as pd\n",
        "import matplotlib.pyplot as plt\n",
        "%matplotlib inline\n",
        "import tensorflow as tf"
      ],
      "metadata": {
        "id": "ZZvmNbNVVMES"
      },
      "execution_count": 2,
      "outputs": []
    },
    {
      "cell_type": "markdown",
      "source": [
        "**Loading Train-Validation-Test Datasets**"
      ],
      "metadata": {
        "id": "lg80dQOgbnH4"
      }
    },
    {
      "cell_type": "code",
      "source": [
        "X_train = np.load('/content/drive/MyDrive/Google_colab/X_train.npy')\n",
        "y_train = np.load('/content/drive/MyDrive/Google_colab/y_train.npy')\n",
        "X_val = np.load('/content/drive/MyDrive/Google_colab/X_val.npy')\n",
        "y_val = np.load('/content/drive/MyDrive/Google_colab/y_val.npy')\n",
        "X_test = np.load('/content/drive/MyDrive/Google_colab/X_test.npy')\n",
        "y_test = np.load('/content/drive/MyDrive/Google_colab/y_test.npy')"
      ],
      "metadata": {
        "id": "r8PUyxN2Vn5L"
      },
      "execution_count": 11,
      "outputs": []
    },
    {
      "cell_type": "markdown",
      "source": [
        "**Create a Model Object**"
      ],
      "metadata": {
        "id": "PBioXnMobv7b"
      }
    },
    {
      "cell_type": "code",
      "source": [
        "model = tf.keras.Sequential()"
      ],
      "metadata": {
        "id": "_1kjZDYBVPe4"
      },
      "execution_count": 23,
      "outputs": []
    },
    {
      "cell_type": "markdown",
      "source": [
        "**Adding Convolution and Max Pooling Layers**"
      ],
      "metadata": {
        "id": "YQ5b6TF0b8EC"
      }
    },
    {
      "cell_type": "code",
      "source": [
        "# Add a convolution and max pooling layer\n",
        "model.add(tf.keras.layers.Conv2D(32,\n",
        "                                 kernel_size=(3,3),\n",
        "                                 strides=(1,1),\n",
        "                                 padding=\"same\",\n",
        "                                 activation=\"relu\",\n",
        "                                 input_shape=(32, 32, 1)))\n",
        "\n",
        "model.add(tf.keras.layers.MaxPooling2D((2,2)))\n",
        "\n",
        "# Add more convolution and max pooling layers\n",
        "# Add a convolution and max pooling layer\n",
        "model.add(tf.keras.layers.Conv2D(64,\n",
        "                                 kernel_size=(3,3),\n",
        "                                 strides=(1,1),\n",
        "                                 padding=\"same\",\n",
        "                                 activation=\"relu\"))\n",
        "\n",
        "model.add(tf.keras.layers.MaxPooling2D((2,2)))\n",
        "\n",
        "model.add(tf.keras.layers.Conv2D(64,\n",
        "                                 kernel_size=(3,3),\n",
        "                                 strides=(1,1),\n",
        "                                 padding=\"same\",\n",
        "                                 activation=\"relu\"))\n",
        "\n",
        "# Flatten the convolution layer\n",
        "model.add(tf.keras.layers.Flatten())\n",
        "\n",
        "# Add the dense layer and dropout layer\n",
        "model.add(tf.keras.layers.Dense(64, activation=\"relu\"))\n",
        "model.add(tf.keras.layers.Dropout(0.5))\n",
        "\n",
        "# Add the dense layer and dropout layer\n",
        "model.add(tf.keras.layers.Dense(64, activation=\"relu\"))\n",
        "model.add(tf.keras.layers.Dropout(0.5))\n",
        "\n",
        "# Add the output layer\n",
        "model.add(tf.keras.layers.Dense(10, activation=\"softmax\"))"
      ],
      "metadata": {
        "id": "WwFm5zCEVUEZ"
      },
      "execution_count": 13,
      "outputs": []
    },
    {
      "cell_type": "markdown",
      "source": [
        "**Model Compiling**"
      ],
      "metadata": {
        "id": "DTs2360mcI0X"
      }
    },
    {
      "cell_type": "code",
      "source": [
        "# Compile the model\n",
        "model.compile(optimizer=\"adam\",\n",
        "              loss=\"sparse_categorical_crossentropy\",\n",
        "              metrics=[\"accuracy\"])"
      ],
      "metadata": {
        "id": "kpm5Oys5VXOU"
      },
      "execution_count": 14,
      "outputs": []
    },
    {
      "cell_type": "markdown",
      "source": [
        "**Model Training**"
      ],
      "metadata": {
        "id": "Evs61EVYcNSw"
      }
    },
    {
      "cell_type": "code",
      "source": [
        "# Train the model for 50 epochs with batch size of 128\n",
        "results = model.fit(X_train, y_train,\n",
        "                    batch_size=128,\n",
        "                    epochs=50,\n",
        "                    validation_data=(X_val, y_val))"
      ],
      "metadata": {
        "colab": {
          "base_uri": "https://localhost:8080/"
        },
        "id": "e-3JjhSMVZGr",
        "outputId": "5943a468-b24f-48b4-dba0-312c209969d8"
      },
      "execution_count": 15,
      "outputs": [
        {
          "output_type": "stream",
          "name": "stdout",
          "text": [
            "Epoch 1/50\n",
            "48/48 [==============================] - 17s 343ms/step - loss: 2.1762 - accuracy: 0.1747 - val_loss: 1.8949 - val_accuracy: 0.3664\n",
            "Epoch 2/50\n",
            "48/48 [==============================] - 14s 287ms/step - loss: 1.9071 - accuracy: 0.2803 - val_loss: 1.6102 - val_accuracy: 0.4183\n",
            "Epoch 3/50\n",
            "48/48 [==============================] - 13s 273ms/step - loss: 1.7338 - accuracy: 0.3658 - val_loss: 1.4284 - val_accuracy: 0.5229\n",
            "Epoch 4/50\n",
            "48/48 [==============================] - 15s 310ms/step - loss: 1.5675 - accuracy: 0.4360 - val_loss: 1.2523 - val_accuracy: 0.5603\n",
            "Epoch 5/50\n",
            "48/48 [==============================] - 14s 301ms/step - loss: 1.4324 - accuracy: 0.4923 - val_loss: 1.1380 - val_accuracy: 0.6328\n",
            "Epoch 6/50\n",
            "48/48 [==============================] - 14s 292ms/step - loss: 1.3322 - accuracy: 0.5293 - val_loss: 1.1051 - val_accuracy: 0.6275\n",
            "Epoch 7/50\n",
            "48/48 [==============================] - 13s 270ms/step - loss: 1.2724 - accuracy: 0.5542 - val_loss: 0.9884 - val_accuracy: 0.6718\n",
            "Epoch 8/50\n",
            "48/48 [==============================] - 12s 249ms/step - loss: 1.2035 - accuracy: 0.5733 - val_loss: 0.9589 - val_accuracy: 0.6771\n",
            "Epoch 9/50\n",
            "48/48 [==============================] - 13s 269ms/step - loss: 1.1244 - accuracy: 0.5996 - val_loss: 0.8839 - val_accuracy: 0.7115\n",
            "Epoch 10/50\n",
            "48/48 [==============================] - 15s 311ms/step - loss: 1.0736 - accuracy: 0.6196 - val_loss: 0.8631 - val_accuracy: 0.7130\n",
            "Epoch 11/50\n",
            "48/48 [==============================] - 15s 306ms/step - loss: 1.0241 - accuracy: 0.6379 - val_loss: 0.8348 - val_accuracy: 0.7504\n",
            "Epoch 12/50\n",
            "48/48 [==============================] - 13s 276ms/step - loss: 0.9995 - accuracy: 0.6538 - val_loss: 0.7817 - val_accuracy: 0.7603\n",
            "Epoch 13/50\n",
            "48/48 [==============================] - 12s 260ms/step - loss: 0.9277 - accuracy: 0.6793 - val_loss: 0.7446 - val_accuracy: 0.7794\n",
            "Epoch 14/50\n",
            "48/48 [==============================] - 13s 279ms/step - loss: 0.8935 - accuracy: 0.6978 - val_loss: 0.7623 - val_accuracy: 0.7634\n",
            "Epoch 15/50\n",
            "48/48 [==============================] - 16s 328ms/step - loss: 0.8917 - accuracy: 0.7001 - val_loss: 0.6993 - val_accuracy: 0.7847\n",
            "Epoch 16/50\n",
            "48/48 [==============================] - 15s 320ms/step - loss: 0.8394 - accuracy: 0.7215 - val_loss: 0.6905 - val_accuracy: 0.7901\n",
            "Epoch 17/50\n",
            "48/48 [==============================] - 15s 307ms/step - loss: 0.7804 - accuracy: 0.7361 - val_loss: 0.6561 - val_accuracy: 0.8046\n",
            "Epoch 18/50\n",
            "48/48 [==============================] - 17s 356ms/step - loss: 0.8100 - accuracy: 0.7323 - val_loss: 0.6056 - val_accuracy: 0.8137\n",
            "Epoch 19/50\n",
            "48/48 [==============================] - 16s 340ms/step - loss: 0.7276 - accuracy: 0.7580 - val_loss: 0.5895 - val_accuracy: 0.8252\n",
            "Epoch 20/50\n",
            "48/48 [==============================] - 15s 313ms/step - loss: 0.7272 - accuracy: 0.7536 - val_loss: 0.5811 - val_accuracy: 0.8221\n",
            "Epoch 21/50\n",
            "48/48 [==============================] - 14s 290ms/step - loss: 0.6795 - accuracy: 0.7726 - val_loss: 0.5542 - val_accuracy: 0.8229\n",
            "Epoch 22/50\n",
            "48/48 [==============================] - 14s 286ms/step - loss: 0.6560 - accuracy: 0.7840 - val_loss: 0.5449 - val_accuracy: 0.8351\n",
            "Epoch 23/50\n",
            "48/48 [==============================] - 14s 302ms/step - loss: 0.6586 - accuracy: 0.7783 - val_loss: 0.5949 - val_accuracy: 0.8160\n",
            "Epoch 24/50\n",
            "48/48 [==============================] - 14s 287ms/step - loss: 0.6263 - accuracy: 0.7945 - val_loss: 0.5579 - val_accuracy: 0.8214\n",
            "Epoch 25/50\n",
            "48/48 [==============================] - 15s 324ms/step - loss: 0.5933 - accuracy: 0.8050 - val_loss: 0.5304 - val_accuracy: 0.8344\n",
            "Epoch 26/50\n",
            "48/48 [==============================] - 15s 305ms/step - loss: 0.5797 - accuracy: 0.8058 - val_loss: 0.5703 - val_accuracy: 0.8191\n",
            "Epoch 27/50\n",
            "48/48 [==============================] - 13s 266ms/step - loss: 0.5449 - accuracy: 0.8163 - val_loss: 0.5472 - val_accuracy: 0.8313\n",
            "Epoch 28/50\n",
            "48/48 [==============================] - 14s 291ms/step - loss: 0.5496 - accuracy: 0.8207 - val_loss: 0.5368 - val_accuracy: 0.8344\n",
            "Epoch 29/50\n",
            "48/48 [==============================] - 14s 289ms/step - loss: 0.5182 - accuracy: 0.8243 - val_loss: 0.5310 - val_accuracy: 0.8336\n",
            "Epoch 30/50\n",
            "48/48 [==============================] - 15s 307ms/step - loss: 0.5103 - accuracy: 0.8292 - val_loss: 0.5170 - val_accuracy: 0.8534\n",
            "Epoch 31/50\n",
            "48/48 [==============================] - 13s 262ms/step - loss: 0.4785 - accuracy: 0.8364 - val_loss: 0.5783 - val_accuracy: 0.8328\n",
            "Epoch 32/50\n",
            "48/48 [==============================] - 13s 273ms/step - loss: 0.4793 - accuracy: 0.8403 - val_loss: 0.5361 - val_accuracy: 0.8389\n",
            "Epoch 33/50\n",
            "48/48 [==============================] - 12s 260ms/step - loss: 0.4767 - accuracy: 0.8431 - val_loss: 0.4967 - val_accuracy: 0.8542\n",
            "Epoch 34/50\n",
            "48/48 [==============================] - 14s 298ms/step - loss: 0.4479 - accuracy: 0.8457 - val_loss: 0.5179 - val_accuracy: 0.8420\n",
            "Epoch 35/50\n",
            "48/48 [==============================] - 14s 291ms/step - loss: 0.4420 - accuracy: 0.8514 - val_loss: 0.4921 - val_accuracy: 0.8534\n",
            "Epoch 36/50\n",
            "48/48 [==============================] - 15s 312ms/step - loss: 0.4280 - accuracy: 0.8565 - val_loss: 0.5020 - val_accuracy: 0.8595\n",
            "Epoch 37/50\n",
            "48/48 [==============================] - 14s 295ms/step - loss: 0.4135 - accuracy: 0.8552 - val_loss: 0.5389 - val_accuracy: 0.8466\n",
            "Epoch 38/50\n",
            "48/48 [==============================] - 17s 353ms/step - loss: 0.4241 - accuracy: 0.8596 - val_loss: 0.5034 - val_accuracy: 0.8618\n",
            "Epoch 39/50\n",
            "48/48 [==============================] - 14s 288ms/step - loss: 0.3961 - accuracy: 0.8665 - val_loss: 0.5022 - val_accuracy: 0.8466\n",
            "Epoch 40/50\n",
            "48/48 [==============================] - 14s 296ms/step - loss: 0.3952 - accuracy: 0.8675 - val_loss: 0.4934 - val_accuracy: 0.8679\n",
            "Epoch 41/50\n",
            "48/48 [==============================] - 15s 314ms/step - loss: 0.3591 - accuracy: 0.8812 - val_loss: 0.5427 - val_accuracy: 0.8527\n",
            "Epoch 42/50\n",
            "48/48 [==============================] - 13s 270ms/step - loss: 0.3739 - accuracy: 0.8704 - val_loss: 0.4978 - val_accuracy: 0.8664\n",
            "Epoch 43/50\n",
            "48/48 [==============================] - 14s 296ms/step - loss: 0.3510 - accuracy: 0.8773 - val_loss: 0.5109 - val_accuracy: 0.8626\n",
            "Epoch 44/50\n",
            "48/48 [==============================] - 15s 314ms/step - loss: 0.3287 - accuracy: 0.8845 - val_loss: 0.5177 - val_accuracy: 0.8534\n",
            "Epoch 45/50\n",
            "48/48 [==============================] - 15s 307ms/step - loss: 0.3237 - accuracy: 0.8897 - val_loss: 0.5374 - val_accuracy: 0.8672\n",
            "Epoch 46/50\n",
            "48/48 [==============================] - 13s 273ms/step - loss: 0.3253 - accuracy: 0.8907 - val_loss: 0.5211 - val_accuracy: 0.8634\n",
            "Epoch 47/50\n",
            "48/48 [==============================] - 14s 303ms/step - loss: 0.3416 - accuracy: 0.8801 - val_loss: 0.5737 - val_accuracy: 0.8405\n",
            "Epoch 48/50\n",
            "48/48 [==============================] - 15s 307ms/step - loss: 0.3572 - accuracy: 0.8847 - val_loss: 0.5040 - val_accuracy: 0.8718\n",
            "Epoch 49/50\n",
            "48/48 [==============================] - 13s 270ms/step - loss: 0.3232 - accuracy: 0.8879 - val_loss: 0.5056 - val_accuracy: 0.8595\n",
            "Epoch 50/50\n",
            "48/48 [==============================] - 15s 311ms/step - loss: 0.3098 - accuracy: 0.8973 - val_loss: 0.5206 - val_accuracy: 0.8679\n"
          ]
        }
      ]
    },
    {
      "cell_type": "markdown",
      "source": [
        "**Loss vs Epoch Graph**"
      ],
      "metadata": {
        "id": "76OJxtKbcSbO"
      }
    },
    {
      "cell_type": "code",
      "source": [
        "plt.figure(figsize=(10, 6))\n",
        "\n",
        "# Plot the the training loss\n",
        "plt.plot(results.history[\"loss\"], label=\"train_loss\")\n",
        "\n",
        "# Plot the the validation loss\n",
        "plt.plot(results.history[\"val_loss\"], label=\"val_loss\")\n",
        "\n",
        "\n",
        "# Name the x and y axises\n",
        "plt.ylabel(\"Loss\") \n",
        "plt.xlabel(\"Epoch#\")\n",
        "\n",
        "# Put legend table\n",
        "plt.legend()\n",
        "\n",
        "# Show the plot\n",
        "plt.show()"
      ],
      "metadata": {
        "colab": {
          "base_uri": "https://localhost:8080/",
          "height": 389
        },
        "id": "AqVCd2YbVayf",
        "outputId": "2e3395cb-33f0-4c33-934e-dbf973344f74"
      },
      "execution_count": 16,
      "outputs": [
        {
          "output_type": "display_data",
          "data": {
            "text/plain": [
              "<Figure size 720x432 with 1 Axes>"
            ],
            "image/png": "[encoded data removed]"
          },
          "metadata": {
            "needs_background": "light"
          }
        }
      ]
    },
    {
      "cell_type": "markdown",
      "source": [
        "**Accuracy vs Epoch Graph**"
      ],
      "metadata": {
        "id": "9rz2OTXocb62"
      }
    },
    {
      "cell_type": "code",
      "source": [
        "plt.figure(figsize=(10, 6))\n",
        "\n",
        "# Plot the the training accuracy\n",
        "plt.plot(results.history[\"accuracy\"], label=\"train_accuracy\")\n",
        "\n",
        "\n",
        "# Plot the the validation accuracy\n",
        "plt.plot(results.history[\"val_accuracy\"], label=\"val_accuracy\")\n",
        "\n",
        "\n",
        "# Name the x and y axises\n",
        "plt.ylabel(\"Accuracy\") \n",
        "plt.xlabel(\"Epoch#\")\n",
        "\n",
        "# Put legend table\n",
        "plt.legend()\n",
        "\n",
        "# Show the plot\n",
        "plt.show()"
      ],
      "metadata": {
        "colab": {
          "base_uri": "https://localhost:8080/",
          "height": 388
        },
        "id": "-K3qNiDoVdKS",
        "outputId": "62e8e397-1ffb-47ea-8d15-28408a8f7293"
      },
      "execution_count": 17,
      "outputs": [
        {
          "output_type": "display_data",
          "data": {
            "text/plain": [
              "<Figure size 720x432 with 1 Axes>"
            ],
            "image/png": "[encoded data removed]"
          },
          "metadata": {
            "needs_background": "light"
          }
        }
      ]
    },
    {
      "cell_type": "markdown",
      "source": [
        "**Performance Evaluating**"
      ],
      "metadata": {
        "id": "VaUE9N_eciyS"
      }
    },
    {
      "cell_type": "code",
      "source": [
        "# Evaluate the performance\n",
        "model.evaluate(X_test, y_test)"
      ],
      "metadata": {
        "colab": {
          "base_uri": "https://localhost:8080/"
        },
        "id": "PBZkb3lGVfG7",
        "outputId": "3fb842ed-b9bf-4e41-c5c2-a65ab0564b3e"
      },
      "execution_count": 18,
      "outputs": [
        {
          "output_type": "stream",
          "name": "stdout",
          "text": [
            "41/41 [==============================] - 1s 18ms/step - loss: 0.5918 - accuracy: 0.8649\n"
          ]
        },
        {
          "output_type": "execute_result",
          "data": {
            "text/plain": [
              "[0.5918341279029846, 0.8648855090141296]"
            ]
          },
          "metadata": {},
          "execution_count": 18
        }
      ]
    },
    {
      "cell_type": "markdown",
      "source": [
        "**Prediction for Reshaped Sample**"
      ],
      "metadata": {
        "id": "AVLFkQjccqgJ"
      }
    },
    {
      "cell_type": "code",
      "source": [
        "# Make prediction on the reshaped sample\n",
        "prediction_result = model.predict(X_test[100].reshape(1, 32, 32, 1))\n",
        "\n",
        "# Print the prediction result\n",
        "prediction_result"
      ],
      "metadata": {
        "colab": {
          "base_uri": "https://localhost:8080/"
        },
        "id": "z9BP3a7LVhg0",
        "outputId": "95246ba7-0cf5-4a05-94b5-8c94c1aaa9a1"
      },
      "execution_count": 19,
      "outputs": [
        {
          "output_type": "execute_result",
          "data": {
            "text/plain": [
              "array([[1.7066227e-15, 6.1599031e-11, 1.6125465e-08, 3.4049677e-05,\n",
              "        1.3255985e-10, 3.5340322e-10, 1.2092313e-14, 1.4076510e-18,\n",
              "        9.9993622e-01, 2.9623045e-05]], dtype=float32)"
            ]
          },
          "metadata": {},
          "execution_count": 19
        }
      ]
    },
    {
      "cell_type": "markdown",
      "source": [
        "**Finding Predicted Class and Probabilty**"
      ],
      "metadata": {
        "id": "CRaI1j_Mc1_e"
      }
    },
    {
      "cell_type": "code",
      "source": [
        "# Find the predicted class\n",
        "predicted_class = prediction_result.argmax()\n",
        "\n",
        "# Find the prediction probability\n",
        "predicted_probability = prediction_result.max()"
      ],
      "metadata": {
        "id": "vW6H-hBDVjHk"
      },
      "execution_count": 20,
      "outputs": []
    },
    {
      "cell_type": "code",
      "source": [
        "plt.imshow(X_test[100], cmap=\"gray\")\n",
        "plt.show()\n",
        "\n",
        "print(X_test[100].shape)\n",
        "\n",
        "# Print the results\n",
        "print(f\"This image belongs to class {predicted_class} with {predicted_probability} probability %\")\n",
        "print(f\"The actual class of the selected image is: {y_test[100]}\")"
      ],
      "metadata": {
        "colab": {
          "base_uri": "https://localhost:8080/",
          "height": 320
        },
        "id": "7kmzqAyyVk9d",
        "outputId": "c3f7d709-f798-4406-a20e-cba3b5089939"
      },
      "execution_count": 22,
      "outputs": [
        {
          "output_type": "display_data",
          "data": {
            "text/plain": [
              "<Figure size 432x288 with 1 Axes>"
            ],
            "image/png": "[encoded data removed]"
          },
          "metadata": {
            "needs_background": "light"
          }
        },
        {
          "output_type": "stream",
          "name": "stdout",
          "text": [
            "(32, 32)\n",
            "This image belongs to class 8 with 0.9999362230300903 probability %\n",
            "The actual class of the selected image is: [8]\n"
          ]
        }
      ]
    }
  ]
}